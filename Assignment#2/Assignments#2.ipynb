{
 "cells": [
  {
   "cell_type": "code",
   "execution_count": 2,
   "id": "cb44046a",
   "metadata": {},
   "outputs": [
    {
     "name": "stdout",
     "output_type": "stream",
     "text": [
      "Enter the marks of subjects\n",
      "Mathematics:95\n",
      "English:90\n",
      "Islamiat:85\n",
      "The Total marks is:    270.0 / 300.00\n",
      "The Average marks is:  90.0\n",
      "The Percentage is:     90.0 %\n",
      "The Grade is:          A+\n",
      "The Result is: Passed \n"
     ]
    }
   ],
   "source": [
    "print(\"Enter the marks of subjects\")\n",
    "Mathematics = float (input (\"Mathematics:\"))\n",
    "English = float (input (\"English:\"))\n",
    "Islamiat = float (input (\"Islamiat:\"))\n",
    "Total = Mathematics+English+Islamiat;\n",
    "average =Total/3;\n",
    "percentage = (Total/300)*100\n",
    "if average >= 90:\n",
    "    grade = 'A+'\n",
    "elif average >= 80 and average < 90:\n",
    "    grade = 'A'\n",
    "elif average >= 70 and average < 80:\n",
    "    grade = 'B'\n",
    "elif average >= 60 and average < 70:\n",
    "    grade = 'C'\n",
    "elif average >= 50 and average < 60:\n",
    "    grade = 'D'\n",
    "elif average >= 40 and average < 50:\n",
    "    grade = 'E'\n",
    "else:\n",
    "    grade = 'F'\n",
    "print (\"The Total marks is:   \", Total, \"/ 300.00\")\n",
    "print (\"The Average marks is: \", average)\n",
    "print (\"The Percentage is:    \", percentage, \"%\")\n",
    "print (\"The Grade is:         \", grade) \n",
    "print (\"The Result is: Passed \")"
   ]
  },
  {
   "cell_type": "code",
   "execution_count": 4,
   "id": "9a8b6696",
   "metadata": {},
   "outputs": [
    {
     "name": "stdout",
     "output_type": "stream",
     "text": [
      "Enter the marks of subjects\n",
      "Mathematics:90\n",
      "English:90\n",
      "Islamiat:90\n",
      "The Total marks is:    270.0 / 300.00\n",
      "The Percentage is:     90.0 %\n",
      "The Grade is:          A+\n",
      "The Result is: Passed \n"
     ]
    }
   ],
   "source": [
    "print(\"Enter the marks of subjects\")\n",
    "Mathematics = float (input (\"Mathematics:\"))\n",
    "English = float (input (\"English:\"))\n",
    "Islamiat = float (input (\"Islamiat:\"))\n",
    "Total = Mathematics+English+Islamiat;\n",
    "percentage = (Total/300)*100\n",
    "if percentage>= 90:\n",
    "    grade = 'A+'\n",
    "elif percentage >= 80 and percentage < 90:\n",
    "    grade = 'A'\n",
    "elif percentage >= 70 and apercentage < 80:\n",
    "    grade = 'B'\n",
    "elif percentage >= 60 and percentage < 70:\n",
    "    grade = 'C'\n",
    "elif percentage >= 50 and percentage < 60:\n",
    "    grade = 'D'\n",
    "elif percentage >= 40 and percentage< 50:\n",
    "    grade = 'E'\n",
    "else:\n",
    "    grade = 'F'\n",
    "print (\"The Total marks is:   \", Total, \"/ 300.00\")\n",
    "print (\"The Percentage is:    \", percentage, \"%\")\n",
    "print (\"The Grade is:         \", grade) \n",
    "print (\"The Result is: Passed \")"
   ]
  },
  {
   "cell_type": "code",
   "execution_count": null,
   "id": "0606b965",
   "metadata": {},
   "outputs": [],
   "source": []
  }
 ],
 "metadata": {
  "kernelspec": {
   "display_name": "Python 3",
   "language": "python",
   "name": "python3"
  },
  "language_info": {
   "codemirror_mode": {
    "name": "ipython",
    "version": 3
   },
   "file_extension": ".py",
   "mimetype": "text/x-python",
   "name": "python",
   "nbconvert_exporter": "python",
   "pygments_lexer": "ipython3",
   "version": "3.8.8"
  }
 },
 "nbformat": 4,
 "nbformat_minor": 5
}
