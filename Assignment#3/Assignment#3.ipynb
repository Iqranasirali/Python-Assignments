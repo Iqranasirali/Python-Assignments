{
 "cells": [
  {
   "cell_type": "code",
   "execution_count": 22,
   "id": "facc040d",
   "metadata": {},
   "outputs": [
    {
     "name": "stdout",
     "output_type": "stream",
     "text": [
      "Twinkle, twinkle, little star, \n",
      "\tHow I wonder what you are! \n",
      "\t\tUp above the world so high, \n",
      "\t\tLike a diamond in the sky. \n",
      "Twinkle, twinkle, little star, \n",
      "\tHow I wonder what you are!\n"
     ]
    }
   ],
   "source": [
    "print(\"Twinkle, twinkle, little star, \\n\\tHow I wonder what you are! \\n\\t\\tUp above the world so high, \\n\\t\\tLike a diamond in the sky. \\nTwinkle, twinkle, little star, \\n\\tHow I wonder what you are!\")\n"
   ]
  },
  {
   "cell_type": "code",
   "execution_count": 2,
   "id": "4aad067d",
   "metadata": {},
   "outputs": [
    {
     "name": "stdout",
     "output_type": "stream",
     "text": [
      "Python version\n",
      "3.8.8 (default, Apr 13 2021, 15:08:03) [MSC v.1916 64 bit (AMD64)]\n",
      "Version info.\n",
      "sys.version_info(major=3, minor=8, micro=8, releaselevel='final', serial=0)\n"
     ]
    }
   ],
   "source": [
    "import sys\n",
    "print(\"Python version\")\n",
    "print (sys.version)\n",
    "print(\"Version info.\")\n",
    "print (sys.version_info)\n"
   ]
  },
  {
   "cell_type": "code",
   "execution_count": 3,
   "id": "5c96f115",
   "metadata": {},
   "outputs": [
    {
     "name": "stdout",
     "output_type": "stream",
     "text": [
      "Current date and time : \n",
      "2021-10-24 03:17:57\n"
     ]
    }
   ],
   "source": [
    "import datetime\n",
    "now = datetime.datetime.now()\n",
    "print (\"Current date and time : \")\n",
    "print (now.strftime(\"%Y-%m-%d %H:%M:%S\"))\n"
   ]
  },
  {
   "cell_type": "code",
   "execution_count": 4,
   "id": "972e3a69",
   "metadata": {},
   "outputs": [
    {
     "name": "stdout",
     "output_type": "stream",
     "text": [
      "Input the radius of the circle : 1.5\n",
      "The area of the circle with radius 1.5 is: 7.0685834705770345\n"
     ]
    }
   ],
   "source": [
    "from math import pi\n",
    "r = float(input (\"Input the radius of the circle : \"))\n",
    "print (\"The area of the circle with radius \" + str(r) + \" is: \" + str(pi * r**2))\n"
   ]
  },
  {
   "cell_type": "code",
   "execution_count": 5,
   "id": "f6eb85cf",
   "metadata": {},
   "outputs": [
    {
     "name": "stdout",
     "output_type": "stream",
     "text": [
      "Input your First Name : Iqra\n",
      "Input your Last Name : Nasir Ali\n",
      "Hello  Nasir Ali Iqra\n"
     ]
    }
   ],
   "source": [
    "fname = input(\"Input your First Name : \")\n",
    "lname = input(\"Input your Last Name : \")\n",
    "print (\"Hello  \" + lname + \" \" + fname)\n"
   ]
  },
  {
   "cell_type": "code",
   "execution_count": 6,
   "id": "7bb6ba2c",
   "metadata": {},
   "outputs": [
    {
     "name": "stdout",
     "output_type": "stream",
     "text": [
      "Enter first number: 20\n",
      "Enter second number: 80\n",
      "sum: 100\n"
     ]
    }
   ],
   "source": [
    "a = int(input(\"Enter first number: \"))\n",
    "b = int(input(\"Enter second number: \"))\n",
    " \n",
    "sum = a + b\n",
    " \n",
    "print(\"sum:\", sum)"
   ]
  },
  {
   "cell_type": "code",
   "execution_count": 7,
   "id": "d4d28b94",
   "metadata": {},
   "outputs": [
    {
     "name": "stdout",
     "output_type": "stream",
     "text": [
      "Enter the marks of subjects\n",
      "Mathematics:95.5\n",
      "Physics:90\n",
      "Chemistry:85\n",
      "English:80\n",
      "Islamiat:75\n",
      "The Total marks is:    425.5 / 500.00\n",
      "The Percentage is:     85.1 %\n",
      "The Grade is:          A\n",
      "The Result is: Passed \n"
     ]
    }
   ],
   "source": [
    "print(\"Enter the marks of subjects\")\n",
    "Mathematics = float (input (\"Mathematics:\"))\n",
    "Physics = float (input (\"Physics:\"))\n",
    "Chemistry = float (input (\"Chemistry:\"))\n",
    "English = float (input (\"English:\"))\n",
    "Islamiat = float (input (\"Islamiat:\"))\n",
    "Total = Mathematics+Physics+Chemistry+English+Islamiat;\n",
    "percentage = (Total/500)*100\n",
    "if percentage>= 90:\n",
    "    grade = 'A+'\n",
    "elif percentage >= 80 and percentage < 90:\n",
    "    grade = 'A'\n",
    "elif percentage >= 70 and apercentage < 80:\n",
    "    grade = 'B'\n",
    "elif percentage >= 60 and percentage < 70:\n",
    "    grade = 'C'\n",
    "elif percentage >= 50 and percentage < 60:\n",
    "    grade = 'D'\n",
    "elif percentage >= 40 and percentage< 50:\n",
    "    grade = 'E'\n",
    "else:\n",
    "    grade = 'F'\n",
    "print (\"The Total marks is:   \", Total, \"/ 500.00\")\n",
    "print (\"The Percentage is:    \", percentage, \"%\")\n",
    "print (\"The Grade is:         \", grade) \n",
    "print (\"The Result is: Passed \")"
   ]
  },
  {
   "cell_type": "code",
   "execution_count": 11,
   "id": "342526c7",
   "metadata": {},
   "outputs": [
    {
     "name": "stdout",
     "output_type": "stream",
     "text": [
      "Enter a number: 4\n",
      "4 is an Even number\n"
     ]
    }
   ],
   "source": [
    "num = int(input(\"Enter a number: \"))\n",
    "if (num % 2) == 0:\n",
    "   print(num,\"is an Even number\")\n",
    "else:\n",
    "   print(num,\"is an Odd number\")"
   ]
  },
  {
   "cell_type": "code",
   "execution_count": 12,
   "id": "3b4e9aee",
   "metadata": {},
   "outputs": [
    {
     "name": "stdout",
     "output_type": "stream",
     "text": [
      "Enter a number: 11\n",
      "11 is an Odd number\n"
     ]
    }
   ],
   "source": [
    "num = int(input(\"Enter a number: \"))\n",
    "if (num % 2) == 0:\n",
    "   print(num,\"is an Even number\")\n",
    "else:\n",
    "   print(num,\"is an Odd number\")\n"
   ]
  },
  {
   "cell_type": "code",
   "execution_count": 14,
   "id": "1fc010c3",
   "metadata": {},
   "outputs": [
    {
     "name": "stdout",
     "output_type": "stream",
     "text": [
      "The Lenght of List is: 5\n"
     ]
    }
   ],
   "source": [
    "list = ['Python','Java','Ruby','Machine Learning','C#']\n",
    "size = len(list)\n",
    "print(\"The Lenght of List is:\" ,size)"
   ]
  },
  {
   "cell_type": "code",
   "execution_count": 19,
   "id": "0a57e853",
   "metadata": {},
   "outputs": [
    {
     "name": "stdout",
     "output_type": "stream",
     "text": [
      "-2\n"
     ]
    }
   ],
   "source": [
    "def sum_list(items):\n",
    "    sum_numbers = 0\n",
    "    for x in items:\n",
    "        sum_numbers += x\n",
    "    return sum_numbers\n",
    "print(sum_list([2,4,-8]))\n"
   ]
  },
  {
   "cell_type": "code",
   "execution_count": 20,
   "id": "7306bfb4",
   "metadata": {},
   "outputs": [
    {
     "name": "stdout",
     "output_type": "stream",
     "text": [
      "50\n"
     ]
    }
   ],
   "source": [
    "def max_num_in_list( list ):\n",
    "    max = list[ 0 ]\n",
    "    for a in list:\n",
    "        if a > max:\n",
    "            max = a\n",
    "    return max\n",
    "print(max_num_in_list([10, 20, -8, 50]))"
   ]
  },
  {
   "cell_type": "code",
   "execution_count": 21,
   "id": "7ba77bf3",
   "metadata": {},
   "outputs": [
    {
     "name": "stdout",
     "output_type": "stream",
     "text": [
      "1\n",
      "1\n",
      "2\n",
      "3\n"
     ]
    }
   ],
   "source": [
    "a = [1, 1, 2, 3, 5, 8, 13, 21, 34, 55, 89]\n",
    "for i in a:\n",
    "    if i < 5:\n",
    "        print(i)\n"
   ]
  },
  {
   "cell_type": "code",
   "execution_count": null,
   "id": "2a8a4884",
   "metadata": {},
   "outputs": [],
   "source": []
  }
 ],
 "metadata": {
  "kernelspec": {
   "display_name": "Python 3",
   "language": "python",
   "name": "python3"
  },
  "language_info": {
   "codemirror_mode": {
    "name": "ipython",
    "version": 3
   },
   "file_extension": ".py",
   "mimetype": "text/x-python",
   "name": "python",
   "nbconvert_exporter": "python",
   "pygments_lexer": "ipython3",
   "version": "3.8.8"
  }
 },
 "nbformat": 4,
 "nbformat_minor": 5
}
